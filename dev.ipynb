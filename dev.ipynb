{
 "metadata": {
  "language_info": {
   "codemirror_mode": {
    "name": "ipython",
    "version": 3
   },
   "file_extension": ".py",
   "mimetype": "text/x-python",
   "name": "python",
   "nbconvert_exporter": "python",
   "pygments_lexer": "ipython3",
   "version": "3.9.6"
  },
  "orig_nbformat": 4,
  "kernelspec": {
   "name": "python3",
   "display_name": "Python 3.9.6 64-bit"
  },
  "interpreter": {
   "hash": "ac59ebe37160ed0dfa835113d9b8498d9f09ceb179beaac4002f036b9467c963"
  }
 },
 "nbformat": 4,
 "nbformat_minor": 2,
 "cells": [
  {
   "cell_type": "code",
   "execution_count": null,
   "metadata": {},
   "outputs": [],
   "source": [
    "import pymem\n",
    "ffxiv = pymem.Pymem('ffxiv_dx11.exe')\n",
    "\n",
    "class Target(object):\n",
    "    '''ターゲットへのポインタを取得\n",
    "    '''\n",
    "    PTS = [0x01DC0140]\n",
    "    def __init__(self, ffxiv):\n",
    "        self.ffxiv = ffxiv\n",
    "        self.entry = self.ffxiv.base_address + self.PTS[0]\n",
    "        self.target_pt = self.entry + 0x0\n",
    "        self.focus_target_pt = self.entry + 0x78\n",
    "        self.last_target_pt = self.entry + 0x80\n",
    "\n",
    "    def show(self):\n",
    "        print('entry', hex(self.entry))\n",
    "        print('target_pt', hex(self.target_pt))\n",
    "        print('focus_target_pt', hex(self.focus_target_pt))\n",
    "        print('last_target_pt', hex(self.last_target_pt))\n"
   ]
  },
  {
   "cell_type": "code",
   "execution_count": null,
   "metadata": {},
   "outputs": [],
   "source": [
    "import struct\n",
    "target = Target(ffxiv)\n",
    "\n",
    "entry = ffxiv.read_ulonglong(target.target_pt)\n",
    "data = ffxiv.read_bytes(entry, 0x2000)\n",
    "\n",
    "Entity = {\n",
    "    'name'      :{'offset': 0x30, 'type': 's'},\n",
    "    ''\n",
    "}\n",
    "\n",
    "h = {}\n",
    "for k, v in Entity.items():\n",
    "    offset = v['offset']\n",
    "    h[k] = struct.unpack_from(v['type'], data, offset)\n"
   ]
  }
 ]
}